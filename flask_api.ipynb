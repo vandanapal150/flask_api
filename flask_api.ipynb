{
 "cells": [
  {
   "cell_type": "code",
   "execution_count": 1,
   "metadata": {},
   "outputs": [],
   "source": [
    "from flask import Flask\n",
    "from flask_restful import Resource, Api, reqparse, abort, fields, marshal_with\n",
    "from flask_sqlalchemy import SQLAlchemy"
   ]
  },
  {
   "cell_type": "code",
   "execution_count": 2,
   "metadata": {},
   "outputs": [
    {
     "name": "stderr",
     "output_type": "stream",
     "text": [
      "G:\\anaconda\\lib\\site-packages\\flask_sqlalchemy\\__init__.py:873: FSADeprecationWarning: SQLALCHEMY_TRACK_MODIFICATIONS adds significant overhead and will be disabled by default in the future.  Set it to True or False to suppress this warning.\n",
      "  'SQLALCHEMY_TRACK_MODIFICATIONS adds significant overhead and '\n"
     ]
    }
   ],
   "source": [
    "app = Flask(__name__)\n",
    "api = Api(app)\n",
    "app.config['SQLALCHEMY_DATABASE_URI'] = 'sqlite:///sqlite.db'\n",
    "db = SQLAlchemy(app)"
   ]
  },
  {
   "cell_type": "code",
   "execution_count": 3,
   "metadata": {},
   "outputs": [],
   "source": [
    "class AudioFileStimulator(db.Model):\n",
    "    id = db.Column(db.Integer, primary_key=True)\n",
    "    song = db.Column(db.String(40))\n",
    "    singer = db.Column(db.String(20))    "
   ]
  },
  {
   "cell_type": "code",
   "execution_count": 4,
   "metadata": {},
   "outputs": [],
   "source": [
    "db.create_all()"
   ]
  },
  {
   "cell_type": "code",
   "execution_count": 5,
   "metadata": {},
   "outputs": [
    {
     "data": {
      "text/plain": [
       "<flask_restful.reqparse.RequestParser at 0x1e3ebbb1448>"
      ]
     },
     "execution_count": 5,
     "metadata": {},
     "output_type": "execute_result"
    }
   ],
   "source": [
    "song_post_args = reqparse.RequestParser()\n",
    "song_post_args.add_argument(\"song\", type=str, help='song is required', required=True) \n",
    "song_post_args.add_argument(\"singer\", type=str, help='singer is required', required=True)"
   ]
  },
  {
   "cell_type": "code",
   "execution_count": 6,
   "metadata": {},
   "outputs": [
    {
     "data": {
      "text/plain": [
       "<flask_restful.reqparse.RequestParser at 0x1e3ebb38cc8>"
      ]
     },
     "execution_count": 6,
     "metadata": {},
     "output_type": "execute_result"
    }
   ],
   "source": [
    "song_put_args = reqparse.RequestParser()\n",
    "song_put_args.add_argument(\"song\", type=str) \n",
    "song_put_args.add_argument(\"singer\", type=str)"
   ]
  },
  {
   "cell_type": "code",
   "execution_count": 7,
   "metadata": {},
   "outputs": [],
   "source": [
    "resource_fields = {\n",
    "    'id' : fields.Integer,\n",
    "    'song' : fields.String,\n",
    "    'singer' : fields.String,\n",
    "}"
   ]
  },
  {
   "cell_type": "code",
   "execution_count": 8,
   "metadata": {},
   "outputs": [],
   "source": [
    "class AudioStimulator(Resource):\n",
    "    def get(self):\n",
    "        songs = AudioFileStimulator.query.all()\n",
    "        song_list = {}\n",
    "        for song in songs:\n",
    "            song_list[song.id] = {'song': song.song, 'singer': song.singer}\n",
    "        return song_list"
   ]
  },
  {
   "cell_type": "code",
   "execution_count": 9,
   "metadata": {},
   "outputs": [],
   "source": [
    "class songlist(Resource):\n",
    "    @marshal_with(resource_fields)\n",
    "    def get(self, song_id):\n",
    "        song = AudioFileStimulator.query.filter_by(id=song_id).first()\n",
    "        if not song:\n",
    "            abort(404, message='Could not find song with that ID')\n",
    "        return song\n",
    "    \n",
    "    @marshal_with(resource_fields)\n",
    "    def post(self, song_id):\n",
    "        args = song_post_args.parse_args()\n",
    "        song = AudioFileStimulator.query.filter_by(id=song_id).first()\n",
    "        if song:\n",
    "            abort(409, message='Song ID already exists')\n",
    "        song_ = AudioFileStimulator(id=song_id, song=args['song'], singer=args['singer'])\n",
    "        db.session.add(song_)\n",
    "        db.session.commit()\n",
    "        return song_, 201\n",
    "    \n",
    "    @marshal_with(resource_fields)\n",
    "    def put(self, song_id):\n",
    "        args = song_put_args.parse_args()\n",
    "        song = AudioFileStimulator.query.filter_by(id=song_id).first()\n",
    "        if not song:\n",
    "            abort(404, message=\"Song_ID doesn't exist, cannot update\")\n",
    "        if args['song']:\n",
    "            song.song = args['song']\n",
    "        if args['singer']:\n",
    "            song.singer = args['singer']\n",
    "        db.session.commit()    \n",
    "        return song\n",
    "    \n",
    "    def delete(self, song_id):\n",
    "        song = AudioFileStimulator.query.filter_by(id=song_id).first()\n",
    "        db.session.delete(song)\n",
    "        return \"song deleted\", 204"
   ]
  },
  {
   "cell_type": "code",
   "execution_count": 10,
   "metadata": {},
   "outputs": [],
   "source": [
    "api.add_resource(songlist, '/song_list/<int:song_id>')\n",
    "api.add_resource(AudioStimulator, '/song_list')"
   ]
  },
  {
   "cell_type": "code",
   "execution_count": 11,
   "metadata": {},
   "outputs": [
    {
     "name": "stdout",
     "output_type": "stream",
     "text": [
      " * Serving Flask app \"__main__\" (lazy loading)\n",
      " * Environment: production\n",
      "   WARNING: This is a development server. Do not use it in a production deployment.\n",
      "   Use a production WSGI server instead.\n",
      " * Debug mode: on\n"
     ]
    },
    {
     "name": "stderr",
     "output_type": "stream",
     "text": [
      " * Running on http://127.0.0.1:5000/ (Press CTRL+C to quit)\n",
      "127.0.0.1 - - [01/May/2021 00:40:23] \"\u001b[37mGET http://localhost:5000/song_list HTTP/1.1\u001b[0m\" 200 -\n"
     ]
    }
   ],
   "source": [
    "if __name__ == '__main__':\n",
    "    app.run(debug=True, use_reloader=False)"
   ]
  },
  {
   "cell_type": "code",
   "execution_count": null,
   "metadata": {},
   "outputs": [],
   "source": []
  }
 ],
 "metadata": {
  "kernelspec": {
   "display_name": "Python 3",
   "language": "python",
   "name": "python3"
  },
  "language_info": {
   "codemirror_mode": {
    "name": "ipython",
    "version": 3
   },
   "file_extension": ".py",
   "mimetype": "text/x-python",
   "name": "python",
   "nbconvert_exporter": "python",
   "pygments_lexer": "ipython3",
   "version": "3.7.4"
  }
 },
 "nbformat": 4,
 "nbformat_minor": 2
}
